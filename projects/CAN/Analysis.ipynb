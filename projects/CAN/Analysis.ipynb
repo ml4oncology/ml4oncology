{
 "cells": [
  {
   "cell_type": "markdown",
   "id": "07504e53",
   "metadata": {},
   "source": [
    "© 2018 Institute for Clinical Evaluative Sciences. All rights reserved.\n",
    "\n",
    "TERMS OF USE:\n",
    "##Not for distribution.## This code and data is provided to the user solely for its own non-commercial use by individuals and/or not-for-profit corporations. User shall not distribute without express written permission from the Institute for Clinical Evaluative Sciences.\n",
    "\n",
    "##Not-for-profit.## This code and data may not be used in connection with profit generating activities.\n",
    "\n",
    "##No liability.## The Institute for Clinical Evaluative Sciences makes no warranty or representation regarding the fitness, quality or reliability of this code and data.\n",
    "\n",
    "##No Support.## The Institute for Clinical Evaluative Sciences will not provide any technological, educational or informational support in connection with the use of this code and data.\n",
    "\n",
    "##Warning.## By receiving this code and data, user accepts these terms, and uses the code and data, solely at its own risk."
   ]
  },
  {
   "cell_type": "code",
   "execution_count": null,
   "id": "40dff1d7",
   "metadata": {},
   "outputs": [],
   "source": [
    "%cd ../../\n",
    "%load_ext autoreload\n",
    "%autoreload 2"
   ]
  },
  {
   "cell_type": "code",
   "execution_count": null,
   "id": "b60ee5a1",
   "metadata": {},
   "outputs": [],
   "source": [
    "import json\n",
    "import pandas as pd\n",
    "import plotly.graph_objects as go\n",
    "\n",
    "from src.config import (\n",
    "    root_path, can_folder, split_date, \n",
    "    DATE,\n",
    "    SCr_rise_threshold, SCr_rise_threshold2\n",
    ")\n",
    "from src.utility import numpy_ffill\n",
    "from src.prep_data import PrepDataCAN"
   ]
  },
  {
   "cell_type": "code",
   "execution_count": null,
   "id": "67178de1",
   "metadata": {},
   "outputs": [],
   "source": [
    "main_dir = f'{root_path}/projects/{can_folder}'\n",
    "prep = PrepDataCAN(adverse_event='ckd')\n",
    "chemo_df = prep.load_data()"
   ]
  },
  {
   "cell_type": "markdown",
   "id": "920031c6",
   "metadata": {},
   "source": [
    "# Cohort Numbers Before and After Exclusions"
   ]
  },
  {
   "cell_type": "code",
   "execution_count": null,
   "id": "d2c341b1",
   "metadata": {},
   "outputs": [],
   "source": [
    "# cohort after exclusions (of treatments without one or more of baseline/target blood values)\n",
    "model_data = prep.get_data()\n",
    "dev_cohort, test_cohort = prep.create_cohort(model_data, split_date, verbose=False)\n",
    "\n",
    "# cohort before exclusions\n",
    "first_visit_date = chemo_df.groupby('ikn')[DATE].min()\n",
    "mask = chemo_df['ikn'].map(first_visit_date) <= split_date\n",
    "dev_cohort2, test_cohort2 = chemo_df[mask], chemo_df[~mask]"
   ]
  },
  {
   "cell_type": "code",
   "execution_count": null,
   "id": "0843329f",
   "metadata": {},
   "outputs": [],
   "source": [
    "show = lambda x: f\"NSessions={len(x)}. NPatients={x['ikn'].nunique()}\"\n",
    "cohorts = {'Development': (dev_cohort, dev_cohort2), 'Testing': (test_cohort, test_cohort2)}\n",
    "for name, (post_exc_cohort, pre_exc_cohort) in cohorts.items():\n",
    "    print(f'{name} cohort')\n",
    "    print(f'Before exclusions: {show(pre_exc_cohort)}')\n",
    "    print(f'After exclusions: {show(post_exc_cohort)}\\n')"
   ]
  },
  {
   "cell_type": "markdown",
   "id": "0284d1f4",
   "metadata": {},
   "source": [
    "# Create Alluvial Plot"
   ]
  },
  {
   "cell_type": "code",
   "execution_count": null,
   "id": "9585d38e",
   "metadata": {},
   "outputs": [],
   "source": [
    "def get_combined_ckd_and_aki_data():\n",
    "    ckd_cols = ['ikn', 'baseline_eGFR', 'next_eGFR', 'next_SCr_value', 'dialysis']\n",
    "    aki_cols = ['ikn', 'baseline_eGFR', 'SCr_peak', 'SCr_rise', 'SCr_fold_increase']\n",
    "\n",
    "    # get ckd cohort\n",
    "    prep_ckd = PrepDataCAN(adverse_event='ckd')\n",
    "    ckd_cohort = prep_ckd.get_data()\n",
    "    ckd_cohort = pd.concat([ckd_cohort[ckd_cols], prep_ckd.event_dates[['visit_date', 'first_visit_date']]], axis=1)\n",
    "\n",
    "    # get aki cohort\n",
    "    prep_aki = PrepDataCAN(adverse_event='aki')\n",
    "    aki_cohort = prep_aki.get_data()\n",
    "    aki_cohort = pd.concat([aki_cohort[aki_cols], prep_aki.event_dates[['visit_date', 'first_visit_date']]], axis=1)\n",
    "\n",
    "    # get the union of aki and ckd cohort\n",
    "    # WARNING: 2% of first visit dates differ between ckd and aki cohorts\n",
    "    # TODO: fix this issue\n",
    "    aki_data, ckd_data = aki_cohort.align(ckd_cohort, join='outer')\n",
    "    df = aki_data.fillna(ckd_data).astype(aki_data.dtypes)\n",
    "    df = df.sort_values(['ikn', 'visit_date'])\n",
    "\n",
    "    return df\n",
    "\n",
    "def compute_ckd_stages(df):\n",
    "    name_map = {\n",
    "        'Pre-treatment CKD': 'baseline_eGFR',\n",
    "        'Post-treatment CKD': 'next_eGFR',\n",
    "    }\n",
    "    for name, eGFR_col in name_map.items():\n",
    "        mask = df[eGFR_col] > 60\n",
    "        df.loc[mask, name] = '1-2'\n",
    "\n",
    "        mask = df[eGFR_col].between(45, 60, inclusive='left')\n",
    "        df.loc[mask, name] = '3a'\n",
    "\n",
    "        mask = df[eGFR_col].between(30, 45, inclusive='left')\n",
    "        df.loc[mask, name] = '3b'\n",
    "\n",
    "        mask = df[eGFR_col] < 30\n",
    "        df.loc[mask, name] = '4-5'\n",
    "\n",
    "        mask = df[eGFR_col].isnull()\n",
    "        df.loc[mask, name] = 'No Information'\n",
    "\n",
    "        assert df[name].notnull().all()\n",
    "\n",
    "    return df\n",
    "\n",
    "def compute_worst_aki_stages(df):\n",
    "    # compute aki stages for each treatment session\n",
    "    aki_stages = pd.Series(index=df.index, dtype=int)\n",
    "\n",
    "    mask = (df['SCr_rise'] < SCr_rise_threshold) & (df['SCr_fold_increase'] < 1.5)\n",
    "    aki_stages[mask] = 0\n",
    "\n",
    "    mask = (df['SCr_rise'] >= SCr_rise_threshold) | (df['SCr_fold_increase'] >= 1.5)\n",
    "    aki_stages[mask] = 1\n",
    "\n",
    "    mask = df['SCr_fold_increase'] >= 2\n",
    "    aki_stages[mask] = 2\n",
    "\n",
    "    mask = (df['SCr_rise'] >= SCr_rise_threshold2) | (df['SCr_fold_increase'] >= 3)\n",
    "    aki_stages[mask] = 3\n",
    "\n",
    "    mask = df['SCr_peak'].isnull()\n",
    "    aki_stages[mask] = -1\n",
    "\n",
    "    assert aki_stages.notnull().all()\n",
    "\n",
    "    # compute the worst aki stages for each patient\n",
    "    worst_aki_stages = aki_stages.groupby(df['ikn']).max()\n",
    "    worst_aki_stages = worst_aki_stages.replace(-1, 'No Information')\n",
    "\n",
    "    return worst_aki_stages"
   ]
  },
  {
   "cell_type": "code",
   "execution_count": null,
   "id": "755a8953",
   "metadata": {},
   "outputs": [],
   "source": [
    "df = get_combined_ckd_and_aki_data()\n",
    "prep.event_dates = df[['visit_date', 'first_visit_date']] # hotfix\n",
    "dev, test = prep.create_cohort(df, split_date, verbose=False)\n",
    "cohorts = {'Development': dev, 'Testing': test, 'All': df}"
   ]
  },
  {
   "cell_type": "code",
   "execution_count": null,
   "id": "acbf90d6",
   "metadata": {},
   "outputs": [],
   "source": [
    "for cohort, data in cohorts.items():\n",
    "    # compute pre-treatment and post-treatment CKD stages\n",
    "    result = data.groupby('ikn').first()\n",
    "    result = compute_ckd_stages(result)\n",
    "    # compute worst AKI stages\n",
    "    result['Worst AKI'] = compute_worst_aki_stages(data)\n",
    "\n",
    "    postfix = {'All': '', 'Development': '_dev', 'Testing': '_test'}[cohort]\n",
    "    count = pd.DataFrame(result[['Pre-treatment CKD', 'Post-treatment CKD', 'Worst AKI']].value_counts(), columns=['Freq'])\n",
    "    count = count.sort_index()\n",
    "    count.to_csv(f'{main_dir}/data/alluvial/alluvial_raw{postfix}.csv')\n",
    "    mask = count['Freq'] < 6\n",
    "    count.loc[mask, 'Freq'] = '<6'\n",
    "    count.to_csv(f'{main_dir}/data/alluvial/alluvial{postfix}.csv')"
   ]
  },
  {
   "cell_type": "code",
   "execution_count": null,
   "id": "f21c984d",
   "metadata": {},
   "outputs": [],
   "source": [
    "# populate and prepare source, target, value for alluvial plot\n",
    "source, target, value = [], [], []\n",
    "for pre_trt_ckd_stage, pre_trt_ckd_group in result.groupby('Pre-treatment CKD'):\n",
    "    pre_trt_ckd_name = f'Pre-treatment CKD (stage{pre_trt_ckd_stage})'\n",
    "\n",
    "    for aki_stage, aki_group in pre_trt_ckd_group.groupby('Worst AKI'):\n",
    "        aki_name = f'Worst AKI (stage{aki_stage})'\n",
    "        if aki_stage == 'No Information': aki_name = 'No AKI Information'\n",
    "        if aki_stage == 0: aki_name = 'No AKI'\n",
    "        source.append(pre_trt_ckd_name)\n",
    "        target.append(aki_name)\n",
    "        value.append(len(aki_group))\n",
    "\n",
    "        for post_trt_ckd_stage, post_trt_ckd_group in aki_group.groupby('Post-treatment CKD'):\n",
    "            post_trt_ckd_name = f'Post-treatment CKD (stage{post_trt_ckd_stage})'\n",
    "            if post_trt_ckd_stage == 'No Information': post_trt_ckd_name = 'No CKD Information'\n",
    "            source.append(aki_name)\n",
    "            target.append(post_trt_ckd_name)\n",
    "            value.append(len(post_trt_ckd_group))\n",
    "\n",
    "label = list(set(source + target))\n",
    "label_map = {name: i for i, name in enumerate(label)}\n",
    "source, target = [label_map[s] for s in source], [label_map[t] for t in target]"
   ]
  },
  {
   "cell_type": "code",
   "execution_count": null,
   "id": "8f3e3182",
   "metadata": {},
   "outputs": [],
   "source": [
    "fig = go.Figure(\n",
    "    data=[\n",
    "        go.Sankey(\n",
    "            node=dict(label=label, align='left'),\n",
    "            link=dict(source=source, target=target, value=value)\n",
    "        )\n",
    "    ],\n",
    "    layout=dict(height=800)\n",
    ")\n",
    "fig.show()\n",
    "fig.write_image(f'{main_dir}/data/alluvial_v2.png')"
   ]
  },
  {
   "cell_type": "code",
   "execution_count": null,
   "id": "2ff56af0",
   "metadata": {},
   "outputs": [],
   "source": [
    "# display the numbers\n",
    "count = {}\n",
    "for pre_trt_ckd_stage, pre_trt_ckd_group in result.groupby('Pre-treatment CKD'):\n",
    "    pre_trt_ckd_name = f'Pre-treatment CKD (stage{pre_trt_ckd_stage}) [N={len(pre_trt_ckd_group)}]'\n",
    "    count[pre_trt_ckd_name] = {}\n",
    "\n",
    "    for aki_stage, aki_group in pre_trt_ckd_group.groupby('Worst AKI'):\n",
    "        aki_name = f'Worst AKI (stage{aki_stage})'\n",
    "        if aki_stage == 'No Information': aki_name = 'No AKI Information'\n",
    "        if aki_stage == 0: aki_name = 'No AKI'\n",
    "        aki_name = f'{aki_name} [N={len(aki_group)}]'\n",
    "        count[pre_trt_ckd_name][aki_name] = {}\n",
    "\n",
    "        for post_trt_ckd_stage, post_trt_ckd_group in aki_group.groupby('Post-treatment CKD'):\n",
    "            post_trt_ckd_name = f'Post-treatment CKD (stage{post_trt_ckd_stage})'\n",
    "            if post_trt_ckd_stage == 'No Information': post_trt_ckd_name = 'No CKD Information'\n",
    "            count[pre_trt_ckd_name][aki_name][post_trt_ckd_name] = len(post_trt_ckd_group)\n",
    "print(json.dumps(count, indent=2))"
   ]
  },
  {
   "cell_type": "code",
   "execution_count": null,
   "id": "7b6266dd",
   "metadata": {},
   "outputs": [],
   "source": [
    "count = pd.read_csv(f'{main_dir}/data/alluvial/alluvial_raw.csv')\n",
    "count = count[count['Post-treatment CKD'] != 'No Information']\n",
    "count = count[count['Pre-treatment CKD'] == '1-2']\n",
    "N = count['Freq'].sum()\n",
    "count = count[count['Worst AKI'] != '0.0']\n",
    "n1 = count['Freq'].sum()\n",
    "count = count[count['Post-treatment CKD'] != '1-2']\n",
    "n2 = count['Freq'].sum()\n",
    "print(f'AKI affected {n1} ({n1/N*100:0.1f}%) patients without pre-treatment CKD, '\n",
    "      f'of whom {n2} ({n2/N*100:0.1f}%) subsequently developed CKD.')"
   ]
  }
 ],
 "metadata": {
  "language_info": {
   "name": "python"
  }
 },
 "nbformat": 4,
 "nbformat_minor": 5
}
