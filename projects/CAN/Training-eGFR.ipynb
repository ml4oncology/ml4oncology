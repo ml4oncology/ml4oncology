{
 "cells": [
  {
   "cell_type": "markdown",
   "id": "25388c0b",
   "metadata": {},
   "source": [
    "© 2023 Institute for Clinical Evaluative Sciences. All rights reserved.\n",
    "\n",
    "TERMS OF USE:\n",
    "##Not for distribution.## This code and data is provided to the user solely for its own non-commercial use by individuals and/or not-for-profit corporations. User shall not distribute without express written permission from the Institute for Clinical Evaluative Sciences.\n",
    "\n",
    "##Not-for-profit.## This code and data may not be used in connection with profit generating activities.\n",
    "\n",
    "##No liability.## The Institute for Clinical Evaluative Sciences makes no warranty or representation regarding the fitness, quality or reliability of this code and data.\n",
    "\n",
    "##No Support.## The Institute for Clinical Evaluative Sciences will not provide any technological, educational or informational support in connection with the use of this code and data.\n",
    "\n",
    "##Warning.## By receiving this code and data, user accepts these terms, and uses the code and data, solely at its own risk."
   ]
  },
  {
   "cell_type": "code",
   "execution_count": null,
   "id": "ae137045",
   "metadata": {},
   "outputs": [],
   "source": [
    "%cd ../../\n",
    "%load_ext autoreload\n",
    "%autoreload 2"
   ]
  },
  {
   "cell_type": "code",
   "execution_count": null,
   "id": "978d3485",
   "metadata": {},
   "outputs": [],
   "source": [
    "import copy\n",
    "\n",
    "from scipy.stats import norm\n",
    "from sklearn.preprocessing import StandardScaler\n",
    "import matplotlib.pyplot as plt\n",
    "import numpy as np\n",
    "import pandas as pd\n",
    "pd.set_option('display.max_columns', 150)\n",
    "pd.set_option('display.max_rows', 150)\n",
    "import seaborn as sns\n",
    "import shap\n",
    "\n",
    "from src.config import root_path, can_folder, split_date, SCr_rise_threshold\n",
    "from src.evaluate import EvaluateReg, EvaluateBaselineModel\n",
    "from src.prep_data import PrepDataCAN\n",
    "from src.train import Ensembler, Trainer, PolynomialModelTrainer\n",
    "from src.utility import initialize_folders, load_pickle, get_hyperparameters\n",
    "from src.visualize import shap_plot"
   ]
  },
  {
   "cell_type": "code",
   "execution_count": null,
   "id": "84c2d9fa",
   "metadata": {},
   "outputs": [],
   "source": [
    "processes = 64\n",
    "target_keyword = 'SCr|dialysis|next'\n",
    "main_dir = f'{root_path}/projects/{can_folder}'\n",
    "output_path = f'{main_dir}/models/eGFR'\n",
    "initialize_folders(output_path)"
   ]
  },
  {
   "cell_type": "markdown",
   "id": "531c7d5a",
   "metadata": {},
   "source": [
    "# Prepare Data for Model Training"
   ]
  },
  {
   "cell_type": "code",
   "execution_count": null,
   "id": "21a0c344",
   "metadata": {},
   "outputs": [],
   "source": [
    "prep = PrepDataCAN(adverse_event='ckd', target_keyword=target_keyword)\n",
    "model_data = prep.get_data(missing_thresh=80, include_comorbidity=True, verbose=True)\n",
    "(model_data['next_eGFR'] - model_data['baseline_eGFR']).hist(bins=100)\n",
    "X, _, tag = prep.split_and_transform_data(model_data, split_date=split_date)\n",
    "# remove sessions in model_data that were excluded during split_and_transform\n",
    "model_data = model_data.loc[tag.index]"
   ]
  },
  {
   "cell_type": "code",
   "execution_count": null,
   "id": "64c4b17f",
   "metadata": {},
   "outputs": [],
   "source": [
    "diff = model_data['next_eGFR'] - model_data['baseline_eGFR']\n",
    "mean, sigma = np.mean(diff), np.std(diff)/np.sqrt(len(diff))\n",
    "conf_int = norm.interval(0.95, loc=mean, scale=sigma)\n",
    "print(f\"eGFR decreased on average by {mean:.3f}, 95% CI: {conf_int}\")\n",
    "\n",
    "mask = model_data['baseline_eGFR'] < 60\n",
    "diff = model_data.loc[~mask, 'next_eGFR'] - model_data.loc[~mask, 'baseline_eGFR']\n",
    "mean, sigma = np.mean(diff), np.std(diff)/np.sqrt(len(diff))\n",
    "conf_int = norm.interval(0.95, loc=mean, scale=sigma)\n",
    "print(f\"For patients without pre-treatment CKD, eGFR decreased on average by {mean:.3f}, 95% CI {conf_int}\")"
   ]
  },
  {
   "cell_type": "code",
   "execution_count": null,
   "id": "dbdef067",
   "metadata": {},
   "outputs": [],
   "source": [
    "# Convenience variables\n",
    "train_mask, valid_mask, test_mask = tag['split'] == 'Train', tag['split'] == 'Valid', tag['split'] == 'Test'\n",
    "X_train, X_valid, X_test = X[train_mask], X[valid_mask], X[test_mask]"
   ]
  },
  {
   "cell_type": "code",
   "execution_count": null,
   "id": "3f341a71",
   "metadata": {},
   "outputs": [],
   "source": [
    "# setup regression label\n",
    "Y = pd.DataFrame()\n",
    "Y['next_eGFR'] = model_data['next_eGFR']\n",
    "Y['eGFR_change'] = model_data['next_eGFR'] - model_data['baseline_eGFR']\n",
    "# scale the target\n",
    "scaler = StandardScaler()\n",
    "Y[train_mask] = Y_train = scaler.fit_transform(Y[train_mask])\n",
    "Y[valid_mask] = Y_valid = scaler.transform(Y[valid_mask])\n",
    "Y[test_mask] = Y_test = scaler.transform(Y[test_mask])"
   ]
  },
  {
   "cell_type": "markdown",
   "id": "f9109ade",
   "metadata": {},
   "source": [
    "# Train Models"
   ]
  },
  {
   "cell_type": "markdown",
   "id": "be70ab6a",
   "metadata": {},
   "source": [
    "## Spline Baseline Model"
   ]
  },
  {
   "cell_type": "code",
   "execution_count": null,
   "id": "a9972a09",
   "metadata": {},
   "outputs": [],
   "source": [
    "trainer = PolynomialModelTrainer(X, Y, tag, output_path, base_col='baseline_eGFR', alg='SPLINE', task_type='R')\n",
    "trainer.run(bayesopt=True, train=True, save=True)"
   ]
  },
  {
   "cell_type": "code",
   "execution_count": null,
   "id": "bd578dc3",
   "metadata": {},
   "outputs": [],
   "source": [
    "# save the model as a table\n",
    "df = trainer.model_to_table(\n",
    "    model=load_pickle(output_path, 'SPLINE'),\n",
    "    base_vals=model_data['baseline_eGFR'],\n",
    "    extra_info=model_data[['baseline_creatinine_value', 'next_eGFR']].rename(columns={'next_eGFR': 'true_next_eGFR'})\n",
    ")\n",
    "df[Y.columns] = scaler.inverse_transform(df[Y.columns])\n",
    "df.to_csv(f'{output_path}/SPLINE_model.csv')\n",
    "df"
   ]
  },
  {
   "cell_type": "markdown",
   "id": "99558843",
   "metadata": {},
   "source": [
    "## Main Models"
   ]
  },
  {
   "cell_type": "code",
   "execution_count": null,
   "id": "3a2d11ab",
   "metadata": {},
   "outputs": [],
   "source": [
    "trainer = Trainer(X, Y, tag, output_path, task_type='R')\n",
    "trainer.run(bayesopt=True, train=True, save_preds=True, algs=['LR', 'RF', 'XGB', 'NN'], allow_duplicate_points=True)"
   ]
  },
  {
   "cell_type": "markdown",
   "id": "32359e2c",
   "metadata": {},
   "source": [
    "## ENS Model \n",
    "Find Optimal Ensemble Weights\n"
   ]
  },
  {
   "cell_type": "code",
   "execution_count": null,
   "id": "f3f2f277",
   "metadata": {},
   "outputs": [],
   "source": [
    "preds = load_pickle(f'{output_path}/preds', 'all_preds')\n",
    "ensembler = Ensembler(X, Y, tag, output_path, preds, task_type='R')\n",
    "ensembler.run(bayesopt=True, calibrate=False)"
   ]
  },
  {
   "cell_type": "markdown",
   "id": "c38217da",
   "metadata": {},
   "source": [
    "# Evaluate Models"
   ]
  },
  {
   "cell_type": "code",
   "execution_count": null,
   "id": "4eb79837",
   "metadata": {},
   "outputs": [],
   "source": [
    "preds, labels = copy.deepcopy(ensembler.preds), copy.deepcopy(ensembler.labels)\n",
    "# Include the baseline models\n",
    "preds.update(load_pickle(f'{output_path}/preds', 'SPLINE_preds'))"
   ]
  },
  {
   "cell_type": "code",
   "execution_count": null,
   "id": "38c6d5f1",
   "metadata": {},
   "outputs": [],
   "source": [
    "for split, label in labels.items():\n",
    "    # inverse scale the labels\n",
    "    labels[split][:] = scaler.inverse_transform(label)\n",
    "    # inverse scale the predictions\n",
    "    for alg, pred in preds.items():\n",
    "        preds[alg][split][:] = scaler.inverse_transform(pred[split])"
   ]
  },
  {
   "cell_type": "code",
   "execution_count": null,
   "id": "f36e64bd",
   "metadata": {},
   "outputs": [],
   "source": [
    "evaluator = EvaluateReg(output_path, preds, labels)\n",
    "evaluator.get_evaluation_scores(display_ci=True, load_ci=False, save_ci=True)"
   ]
  },
  {
   "cell_type": "code",
   "execution_count": null,
   "id": "d4273740",
   "metadata": {},
   "outputs": [],
   "source": [
    "evaluator.plot_err_dist(alg='ENS', target_event='next_eGFR')\n",
    "evaluator.plot_err_dist(alg='ENS', target_event='eGFR_change')"
   ]
  },
  {
   "cell_type": "markdown",
   "id": "88dba135",
   "metadata": {},
   "source": [
    "## Most Important Features"
   ]
  },
  {
   "cell_type": "code",
   "execution_count": null,
   "id": "0b3012fd",
   "metadata": {},
   "outputs": [],
   "source": [
    "data = X_test.astype(float)\n",
    "bg_dist = X_valid.astype(float)\n",
    "ensemble_weights = load_pickle(f'{output_path}/best_params', 'ENS_params')\n",
    "models = {alg: load_pickle(output_path, alg) for alg in ensemble_weights}\n",
    "def predict(X):\n",
    "    weights, preds = [], []\n",
    "    for alg, weight in ensemble_weights.items():\n",
    "        pred = models[alg].predict(X)\n",
    "        if alg == 'NN': pred = pred.cpu().detach().numpy()\n",
    "        preds.append(pred)\n",
    "        weights.append(weight)\n",
    "    return scaler.inverse_transform(np.average(preds, axis=0, weights=weights))"
   ]
  },
  {
   "cell_type": "code",
   "execution_count": null,
   "id": "deafd2bc",
   "metadata": {},
   "outputs": [],
   "source": [
    "%%time\n",
    "# compute shap values for the ENS models\n",
    "# NOTE: the explainer will loop through each sample row, and create multiple versions of the sample row\n",
    "# with different feature permutations, where the values are replaced with the background distribution values\n",
    "explainer = shap.Explainer(predict, bg_dist, seed=42)\n",
    "shap_values = explainer(data, max_evals=800)\n",
    "save_pickle(shap_values, f'{output_path}/feat_importance', 'ENS_shap_values')"
   ]
  },
  {
   "cell_type": "code",
   "execution_count": null,
   "id": "1a3a2d9f",
   "metadata": {},
   "outputs": [],
   "source": [
    "shap_values = load_pickle(f'{output_path}/feat_importance', 'ENS_shap_values')\n",
    "\n",
    "# set display version of data (unnormalized)\n",
    "data = X_test.astype(float)\n",
    "norm_cols = prep.scaler.feature_names_in_\n",
    "data[norm_cols] = prep.scaler.inverse_transform(data[norm_cols])\n",
    "shap_values.data = data.to_numpy()\n",
    "\n",
    "# separate the two shap values\n",
    "next_eGFR_shap_values = shap_values[:, :, 0]\n",
    "eGFR_change_shap_values = shap_values[:, :, 1]"
   ]
  },
  {
   "cell_type": "code",
   "execution_count": null,
   "id": "b726f1cf",
   "metadata": {},
   "outputs": [],
   "source": [
    "shap_plot(next_eGFR_shap_values, output_path, prefix='ENS_next_eGFR_')"
   ]
  },
  {
   "cell_type": "code",
   "execution_count": null,
   "id": "75e3c16b",
   "metadata": {},
   "outputs": [],
   "source": [
    "shap_plot(eGFR_change_shap_values, output_path, prefix='ENS_eGFR_change_')"
   ]
  },
  {
   "cell_type": "markdown",
   "id": "8a6ba1cf",
   "metadata": {},
   "source": [
    "## Prediction vs Baseline Plots"
   ]
  },
  {
   "cell_type": "code",
   "execution_count": null,
   "id": "105512e4",
   "metadata": {},
   "outputs": [],
   "source": [
    "preds = load_pickle(f'{output_path}/preds', 'SPLINE_preds')\n",
    "preds_ci = load_pickle(f'{output_path}/preds', 'SPLINE_preds_ci')\n",
    "# inverse scale the predictions\n",
    "for split, alg in zip(labels.keys(), preds.keys()):\n",
    "    preds[alg][split][:] = scaler.inverse_transform(preds[alg][split])\n",
    "    preds_min, preds_max = preds_ci[alg][split]\n",
    "    preds_min[:], preds_max[:] = scaler.inverse_transform(preds_min), scaler.inverse_transform(preds_max)\n",
    "    preds_ci[alg][split] = (preds_min, preds_max)\n",
    "\n",
    "base_vals = model_data['baseline_eGFR'][test_mask]\n",
    "baseline_evaluator = EvaluateBaselineModel(base_vals, preds, labels, output_path, preds_ci=preds_ci)\n",
    "fig, axes = plt.subplots(nrows=1, ncols=2, figsize=(12, 6))\n",
    "baseline_evaluator.plot_pred_vs_base(axes[0], alg='SPLINE', target_event='next_eGFR', split='Test', show_diagonal=True, use_legend=False, axis_limit=(-5, 145))\n",
    "baseline_evaluator.plot_pred_vs_base(axes[1], alg='SPLINE', target_event='eGFR_change', split='Test', use_legend=False)\n",
    "plt.savefig(f'{output_path}/figures/baseline/SPLINE_pred_vs_baseline.jpg', bbox_inches='tight', dpi=300)"
   ]
  },
  {
   "cell_type": "markdown",
   "id": "8b7a7db1",
   "metadata": {},
   "source": [
    "## Prediction vs Label Plots"
   ]
  },
  {
   "cell_type": "code",
   "execution_count": null,
   "id": "fdb2d1f7",
   "metadata": {},
   "outputs": [],
   "source": [
    "evaluator.plot_label_vs_pred(alg='ENS', target_event='next_eGFR', split='Test', equal_axis=True, axis_limit=(-5, 145))\n",
    "evaluator.plot_label_vs_pred(alg='ENS', target_event='eGFR_change', split='Test', equal_axis=False)"
   ]
  },
  {
   "cell_type": "code",
   "execution_count": null,
   "id": "349bd69b",
   "metadata": {},
   "outputs": [],
   "source": [
    "evaluator.plot_label_vs_pred(alg='SPLINE', target_event='next_eGFR', split='Test', equal_axis=True, axis_limit=(-5, 145))\n",
    "evaluator.plot_label_vs_pred(alg='SPLINE', target_event='eGFR_change', split='Test', equal_axis=False)"
   ]
  }
 ],
 "metadata": {
  "language_info": {
   "name": "python"
  }
 },
 "nbformat": 4,
 "nbformat_minor": 5
}
