{
 "cells": [
  {
   "cell_type": "code",
   "execution_count": null,
   "id": "bda14972",
   "metadata": {},
   "outputs": [],
   "source": [
    "library(ggplot2)\n",
    "library(ggalluvial)\n",
    "libarary(ggsci)"
   ]
  },
  {
   "cell_type": "code",
   "execution_count": null,
   "id": "348f88ba",
   "metadata": {},
   "outputs": [],
   "source": [
    "filter_data <- function(df) { \n",
    "    # remove no information\n",
    "    mask <- df['PostCKD'] != 'No Information'\n",
    "    cat(sprintf('Removing %s patients with no post CKD info', sum(df[!mask, 'Freq'])))\n",
    "    df <- df[mask, ]\n",
    "\n",
    "    mask <- df['AKI'] != 'No Information'\n",
    "    cat(sprintf('Removing %s patients with no AKI info', sum(df[!mask, 'Freq'])))\n",
    "    df <- df[mask, ]\n",
    "\n",
    "    # remove small cells with only 5 patients or less\n",
    "    mask <- df['Freq'] > 5\n",
    "    cat(sprintf('Removing %s patients in small cells', sum(df[!mask, 'Freq'])))\n",
    "    df <- df[mask, ]\n",
    "    cat(sprintf('\\n%s patients left', sum(df['Freq'])))\n",
    "    return(df)\n",
    "}\n",
    "\n",
    "plot <- function(df) {\n",
    "    options(repr.plot.width=8, repr.plot.height=8)\n",
    "    image <- ggplot(df, aes(y = Prop, axis1 = PreCKD, axis2 = AKI, axis3 = PostCKD)) +\n",
    "        geom_alluvium(aes(fill = PostCKD)) +\n",
    "        geom_stratum(fill = NA) +\n",
    "        geom_label(stat = \"stratum\", aes(label = after_stat(stratum))) +\n",
    "        scale_fill_manual(values = rev(pal_jama()(4))) +\n",
    "        scale_x_discrete(limits = c(\"Pre-treatment CKD Grade\", \"Worst AKI Stage\", \"Post-treatment CKD Grade\")) +\n",
    "        theme_classic() + \n",
    "        theme(legend.position = 'none', axis.text = element_text(size = 10)) + \n",
    "        labs(y = 'Percentage of Patients') + \n",
    "        facet_zoom(ylim = c(0, 30))\n",
    "    return(image)\n",
    "}"
   ]
  },
  {
   "cell_type": "code",
   "execution_count": null,
   "id": "a427969c",
   "metadata": {},
   "outputs": [],
   "source": [
    "df <- read.csv('data/ckd_aki_alluvial_raw_dev.csv')\n",
    "colnames(df) <- c('PreCKD', 'AKI', 'PostCKD', 'Freq')\n",
    "is_alluvia_form(df, silent=TRUE)\n",
    "df <- filter_data(df)\n",
    "df['Prop'] <- df['Freq'] / sum(df['Freq']) * 100\n",
    "image <- plot(df)\n",
    "ggsave(file = 'data/alluvial/alluvial_dev.png', plot = image, width = 8, height = 8, dpi = 300)\n",
    "image"
   ]
  },
  {
   "cell_type": "code",
   "execution_count": null,
   "id": "de3b55a2",
   "metadata": {},
   "outputs": [],
   "source": [
    "df <- read.csv('data/ckd_aki_alluvial_raw_test.csv')\n",
    "colnames(df) <- c('PreCKD', 'AKI', 'PostCKD', 'Freq')\n",
    "df <- filter_data(df)\n",
    "df['Prop'] <- df['Freq'] / sum(df['Freq']) * 100\n",
    "image <- plot(df)\n",
    "ggsave(file = 'data/alluvial/alluvial_test.png', plot = image, width = 8, height = 8, dpi = 300)"
   ]
  }
 ],
 "metadata": {
  "language_info": {
   "name": "python"
  }
 },
 "nbformat": 4,
 "nbformat_minor": 5
}
