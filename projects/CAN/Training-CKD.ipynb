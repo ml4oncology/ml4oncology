{
 "cells": [
  {
   "cell_type": "markdown",
   "id": "9a52ee12",
   "metadata": {},
   "source": [
    "© 2023 Institute for Clinical Evaluative Sciences. All rights reserved.\n",
    "\n",
    "TERMS OF USE:\n",
    "##Not for distribution.## This code and data is provided to the user solely for its own non-commercial use by individuals and/or not-for-profit corporations. User shall not distribute without express written permission from the Institute for Clinical Evaluative Sciences.\n",
    "\n",
    "##Not-for-profit.## This code and data may not be used in connection with profit generating activities.\n",
    "\n",
    "##No liability.## The Institute for Clinical Evaluative Sciences makes no warranty or representation regarding the fitness, quality or reliability of this code and data.\n",
    "\n",
    "##No Support.## The Institute for Clinical Evaluative Sciences will not provide any technological, educational or informational support in connection with the use of this code and data.\n",
    "\n",
    "##Warning.## By receiving this code and data, user accepts these terms, and uses the code and data, solely at its own risk."
   ]
  },
  {
   "cell_type": "code",
   "execution_count": null,
   "id": "103d9003",
   "metadata": {},
   "outputs": [],
   "source": [
    "%cd ../../\n",
    "%load_ext autoreload\n",
    "%autoreload 2"
   ]
  },
  {
   "cell_type": "code",
   "execution_count": null,
   "id": "336e7aae",
   "metadata": {},
   "outputs": [],
   "source": [
    "import matplotlib.pyplot as plt\n",
    "import numpy as np\n",
    "import pandas as pd\n",
    "pd.set_option('display.max_columns', 150)\n",
    "pd.set_option('display.max_rows', 150)\n",
    "import seaborn as sns\n",
    "\n",
    "from src.config import root_path, can_folder, split_date, SCr_rise_threshold\n",
    "from src.evaluate import EvaluateClf, EvaluateBaselineModel\n",
    "from src.model import SimpleBaselineModel\n",
    "from src.prep_data import PrepDataCAN\n",
    "from src.summarize import data_description_summary, feature_summary\n",
    "from src.train import Ensembler, LASSOTrainer, PolynomialModelTrainer, Trainer\n",
    "from src.utility import (\n",
    "    initialize_folders, load_pickle, \n",
    "    get_nunique_categories, get_nmissing, most_common_categories,\n",
    "    get_hyperparameters\n",
    ")\n",
    "from src.visualize import importance_plot, score_plot, subgroup_performance_plot"
   ]
  },
  {
   "cell_type": "code",
   "execution_count": null,
   "id": "93df59db",
   "metadata": {},
   "outputs": [],
   "source": [
    "processes = 64\n",
    "target_keyword = 'SCr|dialysis|next'\n",
    "main_dir = f'{root_path}/projects/{can_folder}'\n",
    "adverse_event = 'ckd'\n",
    "output_path = f'{main_dir}/models/{adverse_event.upper()}'\n",
    "initialize_folders(output_path)"
   ]
  },
  {
   "cell_type": "markdown",
   "id": "a61f90e1",
   "metadata": {},
   "source": [
    "# Prepare Data for Model Training"
   ]
  },
  {
   "cell_type": "code",
   "execution_count": null,
   "id": "0ca51cff",
   "metadata": {},
   "outputs": [],
   "source": [
    "prep = PrepDataCAN(adverse_event=adverse_event, target_keyword=target_keyword)\n",
    "model_data = prep.get_data(include_comorbidity=True, verbose=True)\n",
    "model_data"
   ]
  },
  {
   "cell_type": "code",
   "execution_count": null,
   "id": "ffd90040",
   "metadata": {},
   "outputs": [],
   "source": [
    "most_common_categories(model_data, catcol='regimen', with_respect_to='patients', top=10)"
   ]
  },
  {
   "cell_type": "code",
   "execution_count": null,
   "id": "aa2d3928",
   "metadata": {},
   "outputs": [],
   "source": [
    "sorted(model_data.columns)"
   ]
  },
  {
   "cell_type": "code",
   "execution_count": null,
   "id": "f45f9b0f",
   "metadata": {},
   "outputs": [],
   "source": [
    "get_nunique_categories(model_data)"
   ]
  },
  {
   "cell_type": "code",
   "execution_count": null,
   "id": "7680ea68",
   "metadata": {},
   "outputs": [],
   "source": [
    "get_nmissing(model_data)"
   ]
  },
  {
   "cell_type": "code",
   "execution_count": null,
   "id": "2e655349",
   "metadata": {},
   "outputs": [],
   "source": [
    "prep = PrepDataCAN(adverse_event=adverse_event, target_keyword=target_keyword)\n",
    "model_data = prep.get_data(missing_thresh=80, include_comorbidity=True, verbose=True)\n",
    "model_data['next_eGFR'].hist(bins=100)\n",
    "X, Y, tag = prep.split_and_transform_data(model_data, split_date=split_date)\n",
    "# remove sessions in model_data that were excluded during split_and_transform\n",
    "model_data = model_data.loc[tag.index]"
   ]
  },
  {
   "cell_type": "code",
   "execution_count": null,
   "id": "361fdc14",
   "metadata": {},
   "outputs": [],
   "source": [
    "prep.get_label_distribution(Y, tag, with_respect_to='sessions')"
   ]
  },
  {
   "cell_type": "code",
   "execution_count": null,
   "id": "b0153538",
   "metadata": {},
   "outputs": [],
   "source": [
    "prep.get_label_distribution(Y, tag, with_respect_to='patients')"
   ]
  },
  {
   "cell_type": "code",
   "execution_count": null,
   "id": "1fe2b4ed",
   "metadata": {},
   "outputs": [],
   "source": [
    "# Convenience variables\n",
    "train_mask, valid_mask, test_mask = tag['split'] == 'Train', tag['split'] == 'Valid', tag['split'] == 'Test'\n",
    "X_train, X_valid, X_test = X[train_mask], X[valid_mask], X[test_mask]\n",
    "Y_train, Y_valid, Y_test = Y[train_mask], Y[valid_mask], Y[test_mask]"
   ]
  },
  {
   "cell_type": "markdown",
   "id": "d490d591",
   "metadata": {},
   "source": [
    "## Study Characteristics"
   ]
  },
  {
   "cell_type": "code",
   "execution_count": null,
   "id": "42571627",
   "metadata": {},
   "outputs": [],
   "source": [
    "subgroups = [\n",
    "    'sex', 'immigration', 'birth_region', 'language', 'income', 'area_density',\n",
    "    'regimen', 'cancer_type', 'cancer_location', 'target', 'comorbidity', 'dialysis', 'ckd'\n",
    "]\n",
    "data_description_summary(\n",
    "    model_data, Y, tag, save_dir=f'{output_path}/tables', partition_method='cohort', target_event='CKD', \n",
    "    subgroups=subgroups\n",
    ")"
   ]
  },
  {
   "cell_type": "markdown",
   "id": "4514621e",
   "metadata": {},
   "source": [
    "## CKD Characteristics"
   ]
  },
  {
   "cell_type": "code",
   "execution_count": null,
   "id": "4698e97e",
   "metadata": {},
   "outputs": [],
   "source": [
    "def get_ckd_count(df, result, key):\n",
    "    ckd_levels = {'CKD': 60, 'Grade 3b or worse CKD': 45, 'Grade 4 or worse CKD': 30, 'Grade 5 CKD': 15}\n",
    "    N = df['ikn'].nunique()\n",
    "    for ckd_level, thresh in ckd_levels.items():\n",
    "        count = df.query(f'next_eGFR < {thresh}')['ikn'].nunique()\n",
    "        result[key][ckd_level] = 0 if count < 6 else f'{count} ({count/N:0.02})'\n",
    "    count = df.query('dialysis')['ikn'].nunique()\n",
    "    result[key]['Initiation of dialysis'] = 0 if count < 6 else f'{count} ({count/N:0.02})'\n",
    "\n",
    "from collections import defaultdict\n",
    "cohort_masks = {'Development': train_mask | valid_mask, 'Test': test_mask, 'All': model_data['ikn'].notnull()}\n",
    "result = defaultdict(dict)\n",
    "for cohort, mask in cohort_masks.items():\n",
    "    df = model_data[mask]\n",
    "    \n",
    "    # All patients\n",
    "    N = df['ikn'].nunique()\n",
    "    get_ckd_count(df, result, key=(cohort, f'All patients (N={N})'))\n",
    "\n",
    "    # Patients without CKD baseline\n",
    "    mask = df['baseline_ckd'] < 60\n",
    "    df = df[~mask]\n",
    "    N = df['ikn'].nunique()\n",
    "    get_ckd_count(df, result, key=(cohort, f'No Pre-treatment CKD (N={N})'))\n",
    "\n",
    "result = pd.DataFrame(result)\n",
    "result.to_csv(f'{output_path}/tables/ckd_summary.csv')\n",
    "result"
   ]
  },
  {
   "cell_type": "markdown",
   "id": "4fbd25d8",
   "metadata": {},
   "source": [
    "## Feature Characteristic"
   ]
  },
  {
   "cell_type": "code",
   "execution_count": null,
   "id": "5dfa755a",
   "metadata": {},
   "outputs": [],
   "source": [
    "df = prep.ohe.encode(model_data.copy(), verbose=False) # get original (non-normalized, non-imputed) data one-hot encoded\n",
    "df = df[train_mask].drop(columns=['ikn'])\n",
    "feature_summary(\n",
    "    df, save_dir=f'{output_path}/tables', deny_old_survey=True, event_dates=prep.event_dates[train_mask]\n",
    ").head(60)"
   ]
  },
  {
   "cell_type": "markdown",
   "id": "6fb51715",
   "metadata": {},
   "source": [
    "# Train Models"
   ]
  },
  {
   "cell_type": "markdown",
   "id": "3e30ef31",
   "metadata": {},
   "source": [
    "## Spline Baseline Model"
   ]
  },
  {
   "cell_type": "code",
   "execution_count": null,
   "id": "cc611e57",
   "metadata": {},
   "outputs": [],
   "source": [
    "trainer = PolynomialModelTrainer(X, Y, tag, output_path, base_col='baseline_eGFR', alg='SPLINE')\n",
    "trainer.run(bayesopt=True, train=True, save=True)"
   ]
  },
  {
   "cell_type": "code",
   "execution_count": null,
   "id": "c495d3ee",
   "metadata": {},
   "outputs": [],
   "source": [
    "# save the model as a table\n",
    "df = trainer.model_to_table(\n",
    "    model=load_pickle(output_path, 'SPLINE'),\n",
    "    base_vals=model_data['baseline_eGFR'],\n",
    "    extra_info=model_data[['baseline_creatinine_value', 'next_eGFR']]\n",
    ")\n",
    "df.to_csv(f'{output_path}/SPLINE_model.csv')\n",
    "df"
   ]
  },
  {
   "cell_type": "markdown",
   "id": "865b2564",
   "metadata": {},
   "source": [
    "## Main Models"
   ]
  },
  {
   "cell_type": "code",
   "execution_count": null,
   "id": "9a475c94",
   "metadata": {},
   "outputs": [],
   "source": [
    "trainer = Trainer(X, Y, tag, output_path)\n",
    "trainer.run(bayesopt=True, train=True, save_preds=True, algs=['LR', 'RF', 'XGB', 'NN'])"
   ]
  },
  {
   "cell_type": "markdown",
   "id": "32e384d8",
   "metadata": {},
   "source": [
    "## ENS Model \n",
    "Find Optimal Ensemble Weights"
   ]
  },
  {
   "cell_type": "code",
   "execution_count": null,
   "id": "f69c0ca3",
   "metadata": {},
   "outputs": [],
   "source": [
    "preds = load_pickle(f'{output_path}/preds', 'all_preds')\n",
    "ensembler = Ensembler(X, Y, tag, output_path, preds)\n",
    "ensembler.run(bayesopt=True, calibrate=True)"
   ]
  },
  {
   "cell_type": "markdown",
   "id": "981349eb",
   "metadata": {},
   "source": [
    "# Evaluate Models"
   ]
  },
  {
   "cell_type": "code",
   "execution_count": null,
   "id": "61bfb70e",
   "metadata": {},
   "outputs": [],
   "source": [
    "# setup the final prediction and labels\n",
    "preds, labels = ensembler.preds, ensembler.labels\n",
    "# Include the baseline models\n",
    "preds.update(SimpleBaselineModel(model_data[['regimen', 'baseline_eGFR']], labels).predict())\n",
    "preds.update(load_pickle(f'{output_path}/preds', 'SPLINE_preds'))"
   ]
  },
  {
   "cell_type": "code",
   "execution_count": null,
   "id": "a41c7560",
   "metadata": {},
   "outputs": [],
   "source": [
    "evaluator = EvaluateClf(output_path, preds, labels)\n",
    "scores = evaluator.get_evaluation_scores(display_ci=True, load_ci=True, save_ci=True)\n",
    "scores"
   ]
  },
  {
   "cell_type": "code",
   "execution_count": null,
   "id": "49c29f4b",
   "metadata": {},
   "outputs": [],
   "source": [
    "scores.loc[['ENS', 'SPLINE']]"
   ]
  },
  {
   "cell_type": "code",
   "execution_count": null,
   "id": "e4e35233",
   "metadata": {},
   "outputs": [],
   "source": [
    "evaluator.plot_curves(curve_type='pr', legend_loc='lower left', save=False)\n",
    "evaluator.plot_curves(curve_type='roc', legend_loc='lower right', save=False)\n",
    "evaluator.plot_curves(curve_type='pred_cdf', save=False) # cumulative distribution function of model prediction\n",
    "evaluator.plot_calibs(legend_loc='upper left', save=False) \n",
    "# evaluator.plot_calibs(include_pred_hist=True, legend_loc='upper left', figsize=(12,28), padding={'pad_y1': 0.3, 'pad_y0': 3.0})"
   ]
  },
  {
   "cell_type": "code",
   "execution_count": null,
   "id": "0fda23a2",
   "metadata": {},
   "outputs": [],
   "source": [
    "for alg in ['SPLINE', 'ENS']:\n",
    "    print('#' * 50 + f'\\n# {alg}\\n' + '#' * 50)\n",
    "    evaluator.all_plots_for_all_targets(alg=alg)"
   ]
  },
  {
   "cell_type": "markdown",
   "id": "bdc58d60",
   "metadata": {},
   "source": [
    "# Post-Training Analysis"
   ]
  },
  {
   "cell_type": "markdown",
   "id": "3db4f96a",
   "metadata": {},
   "source": [
    "## Threshold Op Points"
   ]
  },
  {
   "cell_type": "code",
   "execution_count": null,
   "id": "252b170c",
   "metadata": {},
   "outputs": [],
   "source": [
    "pred_thresholds = np.arange(0.05, 0.51, 0.05)\n",
    "perf_metrics = ['warning_rate', 'precision', 'recall', 'NPV', 'specificity']\n",
    "thresh_df = evaluator.operating_points(pred_thresholds, alg='ENS', op_metric='threshold', perf_metrics=perf_metrics)\n",
    "thresh_df"
   ]
  },
  {
   "cell_type": "markdown",
   "id": "18b51b58",
   "metadata": {},
   "source": [
    "## Most Important Features/Feature Groups"
   ]
  },
  {
   "cell_type": "code",
   "execution_count": null,
   "id": "5e6796c8",
   "metadata": {},
   "outputs": [],
   "source": [
    "!python scripts/feat_imp.py --adverse-event CKD --output-path {output_path}"
   ]
  },
  {
   "cell_type": "code",
   "execution_count": null,
   "id": "f14d78a9",
   "metadata": {},
   "outputs": [],
   "source": [
    "# importance score is defined as the decrease in AUROC Score when feature value is randomly shuffled\n",
    "importance_plot('ENS', evaluator.target_events, output_path, figsize=(6,15), top=10, importance_by='feature', padding={'pad_x0': 2.7})"
   ]
  },
  {
   "cell_type": "code",
   "execution_count": null,
   "id": "91fc5382",
   "metadata": {},
   "outputs": [],
   "source": [
    "!python scripts/feat_imp.py --adverse-event CKD --output-path {output_path} --permute-group"
   ]
  },
  {
   "cell_type": "code",
   "execution_count": null,
   "id": "fb460516",
   "metadata": {},
   "outputs": [],
   "source": [
    "# importance score is defined as the decrease in AUROC Score when feature value is randomly shuffled\n",
    "importance_plot('ENS', evaluator.target_events, output_path, figsize=(6,15), top=10, importance_by='group', padding={'pad_x0': 1.2})"
   ]
  },
  {
   "cell_type": "markdown",
   "id": "211775f8",
   "metadata": {},
   "source": [
    "## Performance on Subgroups"
   ]
  },
  {
   "cell_type": "code",
   "execution_count": null,
   "id": "5bc76c8e",
   "metadata": {},
   "outputs": [],
   "source": [
    "custom_index = [\n",
    "    ('Regimen', 'CISP RT-W (21.4%)'),\n",
    "    ('Regimen', 'CISPETOP 3D (12.6%)'),\n",
    "    ('Regimen', 'CISP RT (11.7%)'),\n",
    "    ('Topography ICD-0-3', 'Bronchus and Lung (31.7%)'),\n",
    "    ('Topography ICD-0-3', 'Cervix Uteri (8.7%)'),\n",
    "    ('Topography ICD-0-3', 'Bladder (5.6%)'),\n",
    "    ('CKD Prior to Treatment', 'Has CKD (6.3%)'),\n",
    "    ('CKD Prior to Treatment', 'No CKD (93.7%)'),\n",
    "    ('Diabetes Status', 'Diabetic (15.7%)'),\n",
    "    ('Diabetes Status', 'Non-Diabetic (84.3%)'),\n",
    "    ('Hypertension Status', 'Hypertensive (48.0%)'),\n",
    "    ('Hypertension Status', 'Non-Hypertensive (52.0%)')\n",
    "]"
   ]
  },
  {
   "cell_type": "markdown",
   "id": "baecaa49",
   "metadata": {},
   "source": [
    "### ENS"
   ]
  },
  {
   "cell_type": "code",
   "execution_count": null,
   "id": "169afa3e",
   "metadata": {},
   "outputs": [],
   "source": [
    "subgroups = ['all', 'age', 'sex', 'immigrant', 'language', 'arrival', 'income', 'area_density', 'ckd', 'regimen', 'cancer_location', 'comorbidity']\n",
    "subgroup_performance = evaluator.get_perf_by_subgroup(\n",
    "    model_data, subgroups=subgroups, pred_thresh=0.1, alg='ENS', fname='ENS_subgroup_performance',\n",
    "    display_ci=True, load_ci=True, filename_ci='ENS_bootstrapped_subgroup_scores'\n",
    ")\n",
    "subgroup_performance"
   ]
  },
  {
   "cell_type": "code",
   "execution_count": null,
   "id": "96931864",
   "metadata": {},
   "outputs": [],
   "source": [
    "subgroup_performance = pd.read_csv(f'{output_path}/tables/ENS_subgroup_performance.csv', index_col=[0,1], header=[0,1])\n",
    "subgroup_performance.index = pd.MultiIndex.from_tuples(subgroup_performance.index[:18].tolist() + custom_index)\n",
    "padding = {'pad_y0': 1.2, 'pad_x1': 2.7, 'pad_y1': 0.2}\n",
    "subgroups = ['Entire Test Cohort', 'Age', 'Sex', 'Immigration', 'Area of Residence', 'Regimen', 'Topography ICD-0-3', 'Diabetes Status', 'Hypertension Status']\n",
    "subgroup_performance_plot(\n",
    "    subgroup_performance, target_event='CKD', subgroups=subgroups, padding=padding,\n",
    "    figsize=(12,30), save_dir=f'{output_path}/figures/subgroup_perf/ENS', xtick_rotation=75\n",
    ")"
   ]
  },
  {
   "cell_type": "markdown",
   "id": "de0b298d",
   "metadata": {},
   "source": [
    "### SPLINE"
   ]
  },
  {
   "cell_type": "code",
   "execution_count": null,
   "id": "abb3f510",
   "metadata": {},
   "outputs": [],
   "source": [
    "subgroups = ['all', 'age', 'sex', 'immigrant', 'language', 'arrival', 'income', 'area_density', 'ckd', 'regimen', 'cancer_location', 'comorbidity']\n",
    "subgroup_performance = evaluator.get_perf_by_subgroup(\n",
    "    model_data, subgroups=subgroups, pred_thresh=0.1, alg='SPLINE', fname='SPLINE_subgroup_performance',\n",
    "    display_ci=True, load_ci=True, filename_ci='SPLINE_bootstrapped_subgroup_scores'\n",
    ")\n",
    "subgroup_performance"
   ]
  },
  {
   "cell_type": "code",
   "execution_count": null,
   "id": "cc747b8d",
   "metadata": {},
   "outputs": [],
   "source": [
    "subgroup_performance = pd.read_csv(f'{output_path}/tables/SPLINE_subgroup_performance.csv', index_col=[0,1], header=[0,1])\n",
    "subgroup_performance.index = pd.MultiIndex.from_tuples(subgroup_performance.index[:18].tolist() + custom_index)\n",
    "padding = {'pad_y0': 1.2, 'pad_x1': 2.7, 'pad_y1': 0.2}\n",
    "subgroups = ['Entire Test Cohort', 'Age', 'Sex', 'Immigration', 'Area of Residence', 'Regimen', 'Topography ICD-0-3', 'Diabetes Status', 'Hypertension Status']\n",
    "subgroup_performance_plot(\n",
    "    subgroup_performance, target_event='CKD', subgroups=subgroups, padding=padding,\n",
    "    figsize=(12,30), save_dir=f'{output_path}/figures/subgroup_perf/SPLINE', xtick_rotation=75\n",
    ")"
   ]
  },
  {
   "cell_type": "markdown",
   "id": "206bf1ff",
   "metadata": {},
   "source": [
    "## Decision Curve Plot"
   ]
  },
  {
   "cell_type": "code",
   "execution_count": null,
   "id": "b50c85a3",
   "metadata": {},
   "outputs": [],
   "source": [
    "result = evaluator.plot_decision_curves('ENS')\n",
    "result['CKD'].tail(n=100)"
   ]
  },
  {
   "cell_type": "code",
   "execution_count": null,
   "id": "809bf91e",
   "metadata": {},
   "outputs": [],
   "source": [
    "result = evaluator.plot_decision_curves('SPLINE')\n",
    "result['CKD'].tail(n=100)"
   ]
  },
  {
   "cell_type": "code",
   "execution_count": null,
   "id": "b7f9d236",
   "metadata": {},
   "outputs": [],
   "source": [
    "get_hyperparameters(output_path)"
   ]
  },
  {
   "cell_type": "markdown",
   "id": "7a8c26df",
   "metadata": {},
   "source": [
    "## Prediction vs Baseline Plots"
   ]
  },
  {
   "cell_type": "code",
   "execution_count": null,
   "id": "f1677df7",
   "metadata": {},
   "outputs": [],
   "source": [
    "preds = load_pickle(f'{output_path}/preds', 'SPLINE_preds')\n",
    "pred_ci = load_pickle(f'{output_path}/preds', 'SPLINE_preds_ci')\n",
    "baseline_evaluator = EvaluateBaselineModel(\n",
    "    model_data['baseline_eGFR'][test_mask], preds, labels, output_path, pred_ci=pred_ci\n",
    ")\n",
    "target_events = Y.columns\n",
    "fig, ax = plt.subplots(figsize=(6,6))\n",
    "for target_event in Y.columns:\n",
    "    baseline_evaluator.plot_pred_vs_base(ax, alg='SPLINE', target_event=target_event, split='Test', open_top_right=False)\n",
    "plt.savefig(f'{output_path}/figures/baseline/SPLINE_pred_vs_baseline.svg', format='svg', bbox_inches='tight', dpi=300)"
   ]
  },
  {
   "cell_type": "markdown",
   "id": "cc9ad009",
   "metadata": {},
   "source": [
    "## Score Bar Plot"
   ]
  },
  {
   "cell_type": "code",
   "execution_count": null,
   "id": "00ed0204",
   "metadata": {},
   "outputs": [],
   "source": [
    "score_plot(scores, Y.columns, output_path, metric='AUROC', ylim=(0.49, 1.01))\n",
    "score_plot(scores, Y.columns, output_path, metric='AUPRC', ylim=(0, 1.01))"
   ]
  },
  {
   "cell_type": "markdown",
   "id": "5495b3da",
   "metadata": {},
   "source": [
    "# Scratch Notes"
   ]
  },
  {
   "cell_type": "markdown",
   "id": "f4510550",
   "metadata": {},
   "source": [
    "## Missingness By Splits"
   ]
  },
  {
   "cell_type": "code",
   "execution_count": null,
   "id": "15068a6b",
   "metadata": {},
   "outputs": [],
   "source": [
    "from src.utility import get_nmissing_by_splits"
   ]
  },
  {
   "cell_type": "code",
   "execution_count": null,
   "id": "bd72faea",
   "metadata": {},
   "outputs": [],
   "source": [
    "missing = get_nmissing_by_splits(model_data, ensembler.labels)\n",
    "missing.sort_values(by=(f'Test (N={sum(test_mask)})', 'Missing (N)'), ascending=False)"
   ]
  }
 ],
 "metadata": {
  "language_info": {
   "name": "python"
  }
 },
 "nbformat": 4,
 "nbformat_minor": 5
}
